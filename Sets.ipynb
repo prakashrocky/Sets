{
  "nbformat": 4,
  "nbformat_minor": 0,
  "metadata": {
    "colab": {
      "provenance": []
    },
    "kernelspec": {
      "name": "python3",
      "display_name": "Python 3"
    },
    "language_info": {
      "name": "python"
    }
  },
  "cells": [
    {
      "cell_type": "code",
      "execution_count": 2,
      "metadata": {
        "colab": {
          "base_uri": "https://localhost:8080/"
        },
        "id": "Fds1m64RUB7K",
        "outputId": "14dfe374-d2a8-4c63-b04e-6a32e5812f8e"
      },
      "outputs": [
        {
          "output_type": "stream",
          "name": "stdout",
          "text": [
            "set()\n",
            "{}\n"
          ]
        }
      ],
      "source": [
        "#Using the set() constructor:\n",
        "empty_set = set()\n",
        "print(empty_set)\n",
        "\n",
        "#Using empty curly braces {}:\n",
        "sets = {}\n",
        "print(sets)"
      ]
    },
    {
      "cell_type": "code",
      "source": [
        "my_set = {1, 2, 3}\n",
        "my_set.add(4)\n",
        "print(my_set)\n",
        "\n",
        "#Using the update() method:\n",
        "my_set = {1, 2, 3}\n",
        "my_set.update([4, 5, 6])\n",
        "print(my_set)"
      ],
      "metadata": {
        "colab": {
          "base_uri": "https://localhost:8080/"
        },
        "id": "a64ZyKs1VvP8",
        "outputId": "0160424c-2a80-4e66-d7bf-6999286d3fae"
      },
      "execution_count": 3,
      "outputs": [
        {
          "output_type": "stream",
          "name": "stdout",
          "text": [
            "{1, 2, 3, 4}\n",
            "{1, 2, 3, 4, 5, 6}\n"
          ]
        }
      ]
    },
    {
      "cell_type": "code",
      "source": [
        "#Remove() method\n",
        "a = {1, 2, 3, 4, 5}\n",
        "a.remove(3)\n",
        "print(a)\n",
        "\n",
        "#Discard method\n",
        "b = {1, 2, 3, 4, 5}\n",
        "b.discard(3)\n",
        "print(b)\n",
        "\n",
        "#Pop() method\n",
        "c = {1, 2, 3, 4, 5}\n",
        "element = c.pop()\n",
        "print(\"Removed element:\", element)\n",
        "print(c)\n",
        "\n",
        "#clear method\n",
        "d = {1, 2, 3, 4, 5}\n",
        "d.clear()\n",
        "print(d)\n"
      ],
      "metadata": {
        "colab": {
          "base_uri": "https://localhost:8080/"
        },
        "id": "PYQZts9MWw8r",
        "outputId": "a27b5cd3-d2e1-41c9-c01d-1c4d9e4d174f"
      },
      "execution_count": 4,
      "outputs": [
        {
          "output_type": "stream",
          "name": "stdout",
          "text": [
            "{1, 2, 4, 5}\n",
            "{1, 2, 4, 5}\n",
            "Removed element: 1\n",
            "{2, 3, 4, 5}\n",
            "set()\n"
          ]
        }
      ]
    },
    {
      "cell_type": "code",
      "source": [
        "my_set = {1, 2, 3, 4, 5}\n",
        "length = len(my_set)\n",
        "print(\"Length of the set:\", length)"
      ],
      "metadata": {
        "colab": {
          "base_uri": "https://localhost:8080/"
        },
        "id": "My0hgK_Ycbow",
        "outputId": "bff47c73-328c-42fa-c394-ac173b776797"
      },
      "execution_count": 5,
      "outputs": [
        {
          "output_type": "stream",
          "name": "stdout",
          "text": [
            "Length of the set: 5\n"
          ]
        }
      ]
    },
    {
      "cell_type": "code",
      "source": [
        "z = {1, 2, 3, 4, 5}\n",
        "if 3 in z:\n",
        "    print(\"Element 3 exists in the set.\")\n",
        "else:\n",
        "    print(\"Element 3 does not exist in the set.\")"
      ],
      "metadata": {
        "colab": {
          "base_uri": "https://localhost:8080/"
        },
        "id": "NgF_CShucmYs",
        "outputId": "26e07fee-f8c1-4319-819f-0540021bfef6"
      },
      "execution_count": 6,
      "outputs": [
        {
          "output_type": "stream",
          "name": "stdout",
          "text": [
            "Element 3 exists in the set.\n"
          ]
        }
      ]
    },
    {
      "cell_type": "code",
      "source": [
        "v = {1, 2, 3, 4, 5}\n",
        "c = {3, 2, 1, 5, 4}\n",
        "\n",
        "if v == c:\n",
        "    print(\"The sets are equal.\")\n",
        "else:\n",
        "    print(\"The sets are not equal.\")"
      ],
      "metadata": {
        "colab": {
          "base_uri": "https://localhost:8080/"
        },
        "id": "Vsd9YZfsc4Q4",
        "outputId": "2c19b599-e13e-4e36-b0be-9c44c45cdae8"
      },
      "execution_count": 7,
      "outputs": [
        {
          "output_type": "stream",
          "name": "stdout",
          "text": [
            "The sets are equal.\n"
          ]
        }
      ]
    },
    {
      "cell_type": "code",
      "source": [
        "original_set = {1, 2, 3, 4, 5}\n",
        "copied_set = set(original_set)\n",
        "print(\"Original set:\", original_set)\n",
        "print(\"Copied set:\", copied_set)"
      ],
      "metadata": {
        "colab": {
          "base_uri": "https://localhost:8080/"
        },
        "id": "cCIa_JhOdZ1a",
        "outputId": "e85a6513-7434-4111-ce44-d274f493cfb4"
      },
      "execution_count": 8,
      "outputs": [
        {
          "output_type": "stream",
          "name": "stdout",
          "text": [
            "Original set: {1, 2, 3, 4, 5}\n",
            "Copied set: {1, 2, 3, 4, 5}\n"
          ]
        }
      ]
    }
  ]
}